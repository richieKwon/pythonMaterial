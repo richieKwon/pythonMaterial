{
 "cells": [
  {
   "cell_type": "code",
   "execution_count": null,
   "metadata": {},
   "outputs": [],
   "source": [
    "    FYstart = if datetime.now().month >= 4: 6\n",
    "     datetime.date(datetime.now().year, datetime.now().month,1)  else \n",
    "    FYend = "
   ]
  },
  {
   "cell_type": "code",
   "execution_count": 24,
   "metadata": {},
   "outputs": [
    {
     "data": {
      "text/plain": [
       "datetime.datetime(2023, 4, 1, 0, 0)"
      ]
     },
     "execution_count": 24,
     "metadata": {},
     "output_type": "execute_result"
    }
   ],
   "source": [
    "import datetime\n",
    "\n",
    "thisMonth = datetime.date.today().month\n",
    "thisYear = datetime.date.today().year\n",
    "FYstart = {\n",
    "    thisMonth >=4 : datetime.datetime(thisYear,4,1),\n",
    "    thisMonth <4 : datetime.datetime(thisYear-1,4,1) }.get(True)\n",
    "\n",
    "FYstart"
   ]
  }
 ],
 "metadata": {
  "kernelspec": {
   "display_name": "Python 3",
   "language": "python",
   "name": "python3"
  },
  "language_info": {
   "codemirror_mode": {
    "name": "ipython",
    "version": 3
   },
   "file_extension": ".py",
   "mimetype": "text/x-python",
   "name": "python",
   "nbconvert_exporter": "python",
   "pygments_lexer": "ipython3",
   "version": "3.11.1"
  },
  "orig_nbformat": 4
 },
 "nbformat": 4,
 "nbformat_minor": 2
}
