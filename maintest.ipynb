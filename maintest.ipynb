{
 "cells": [
  {
   "cell_type": "code",
   "execution_count": 42,
   "metadata": {},
   "outputs": [],
   "source": [
    "import datetime\n",
    "\n",
    "class DataProcess:\n",
    "    \n",
    "    thisMonth = datetime.date.today().month\n",
    "    thisYear = datetime.date.today().year\n",
    "    # the start date of fiscal year\n",
    "    FYstart = {\n",
    "    thisMonth >=4 : datetime.datetime(thisYear,4,1),\n",
    "    thisMonth <4 : datetime.datetime(thisYear-1,4,1) }.get(True)\n",
    "    \n",
    "    # the end date of fiscal year\n",
    "    # __FYend = \n",
    "    \n",
    "    # add 24 months to FYstart date plus for the second and the third chart \n",
    "    # __FYstartWith24Month = \n",
    "\n",
    "    def __init__(self,dataset):\n",
    "        self.dataset = dataset\n",
    "\n",
    "    def SecondChart(self):\n",
    "        self.dataset['Date']\n",
    "\n",
    "\n",
    "\n"
   ]
  },
  {
   "cell_type": "code",
   "execution_count": 38,
   "metadata": {},
   "outputs": [
    {
     "data": {
      "text/plain": [
       "datetime.datetime(2023, 4, 1, 0, 0)"
      ]
     },
     "execution_count": 38,
     "metadata": {},
     "output_type": "execute_result"
    }
   ],
   "source": [
    "fet = DataProcess(1)\n",
    "fet._DataProcess__FYstart"
   ]
  },
  {
   "cell_type": "code",
   "execution_count": 43,
   "metadata": {},
   "outputs": [
    {
     "data": {
      "text/plain": [
       "datetime.datetime(2023, 4, 1, 0, 0)"
      ]
     },
     "execution_count": 43,
     "metadata": {},
     "output_type": "execute_result"
    }
   ],
   "source": [
    "sen = DataProcess(7)\n",
    "sen.FYstart"
   ]
  },
  {
   "cell_type": "code",
   "execution_count": null,
   "metadata": {},
   "outputs": [],
   "source": [
    "class FetcrojaDataProcess(DataProcess):\n",
    "    "
   ]
  },
  {
   "cell_type": "code",
   "execution_count": null,
   "metadata": {},
   "outputs": [],
   "source": [
    "def add_nums (*args):\n",
    "    sum = 0\n",
    "    for arg in args:\n",
    "        sum += args\n",
    "    return sum\n",
    "\n",
    "    "
   ]
  },
  {
   "cell_type": "code",
   "execution_count": 2,
   "metadata": {},
   "outputs": [
    {
     "name": "stdout",
     "output_type": "stream",
     "text": [
      "Animal Sound\n",
      "Bark\n"
     ]
    }
   ],
   "source": [
    "class Animal:\n",
    "    def speak(self):\n",
    "        print('Animal Sound')\n",
    "\n",
    "# super method\n",
    "class Dog(Animal):\n",
    "    def speak(self):\n",
    "        super().speak()\n",
    "        print('Bark')\n",
    "\n",
    "dog = Dog()\n",
    "dog.speak()"
   ]
  },
  {
   "cell_type": "code",
   "execution_count": null,
   "metadata": {},
   "outputs": [],
   "source": [
    "class Person():\n",
    "    def __init__(self, age, _ssn):\n",
    "        self.name = name\n",
    "        self.age = age\n",
    "        self._ssn = _ssn\n",
    "\n",
    "    def display_ssn(self):\n",
    "        print (\"Your SSN is:\", self_ssn)\n",
    "\n",
    "class Employee(Person):\n",
    "    def __init__(self, name, age, _ssn, emp_id):\n",
    "        super().__init__(name, age, _ssn)\n",
    "        self.emp_id = emp_id\n",
    "        "
   ]
  },
  {
   "cell_type": "code",
   "execution_count": 4,
   "metadata": {},
   "outputs": [
    {
     "name": "stdout",
     "output_type": "stream",
     "text": [
      "List of books: YD\n"
     ]
    }
   ],
   "source": [
    "class Book:\n",
    "    def __init__(self, title, author):\n",
    "        self.title = title\n",
    "        self.author = author\n",
    "\n",
    "class Library:\n",
    "    def __init__(self):\n",
    "        self.books = []\n",
    "    \n",
    "    def add_book(self, book):\n",
    "        self.books.append(book)\n",
    "\n",
    "book1 = Book(\"YD\", \"richieKwon\")\n",
    "library = Library()\n",
    "library.add_book(book1)\n",
    "print (\"List of books:\", library.books[0].title)"
   ]
  }
 ],
 "metadata": {
  "kernelspec": {
   "display_name": "Python 3",
   "language": "python",
   "name": "python3"
  },
  "language_info": {
   "codemirror_mode": {
    "name": "ipython",
    "version": 3
   },
   "file_extension": ".py",
   "mimetype": "text/x-python",
   "name": "python",
   "nbconvert_exporter": "python",
   "pygments_lexer": "ipython3",
   "version": "3.11.1"
  },
  "orig_nbformat": 4
 },
 "nbformat": 4,
 "nbformat_minor": 2
}
